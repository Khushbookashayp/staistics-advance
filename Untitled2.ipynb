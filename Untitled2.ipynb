{
  "nbformat": 4,
  "nbformat_minor": 0,
  "metadata": {
    "colab": {
      "provenance": []
    },
    "kernelspec": {
      "name": "python3",
      "display_name": "Python 3"
    },
    "language_info": {
      "name": "python"
    }
  },
  "cells": [
    {
      "cell_type": "code",
      "source": [
        "\"\"\"Question 1: What is a random variable in probability theory?\n",
        "Answer: A random variable is a function that assigns a numerical value to each outcome in the sample space of a random experiment, quantifying the results of a chance process.\n",
        "Question 2: What are the types of random variables?\n",
        "Answer:There are two main types of random variables: discrete and continuous. Discrete random variables can take on a countable number of distinct values, while continuous random variables can take on any value within a given range or interval.\n",
        "Question 3: Explain the difference between discrete and continuous distributions.\n",
        "Answer: Discrete and continuous distributions differ in the type of data they represent. Discrete distributions deal with data that can only take on specific, separate values (often integers), while continuous distributions handle data that can fall anywhere along a given range. This difference affects how probabilities are assigned and calculated for each type of distribution.\n",
        "Question 4: What is a binomial distribution, and how is it used in probability?\n",
        "Answer:A binomial distribution is a probability distribution that models the probability of achieving a specific number of successes in a fixed number of independent trials, where each trial has only two possible outcomes: success or failure\n",
        "Question 5: What is the standard normal distribution, and why is it important?\n",
        "AnswerThe standard normal distribution is a specific normal distribution with a mean of 0 and a standard deviation of 1. It's also known as the z-distribution. This distribution is crucial because any normal distribution can be transformed into a standard normal distribution by converting data points into z-scores, which indicate how many standard deviations a value is away from the mean.\n",
        "Question 6: What is the Central Limit Theorem (CLT), and why is it critical in statistics?\n",
        "Answer: The Central Limit Theorem (CLT) states that the distribution of sample means will be approximately normal, regardless of the shape of the population distribution, as long as the sample size is large enough. This is critical in statistics because it allows us to apply many statistical methods that rely on the normal distribution, even when the underlying data isn't normally distributed.\n",
        "Question 7: What is the significance of confidence intervals in statistical analysis?\n",
        "Answer: Confidence intervals in statistics provide a range of plausible values for an unknown population parameter, along with a degree of confidence that the true value falls within that range. They are crucial for understanding the reliability and precision of sample-based estimates, especially when dealing with uncertainty in statistical analysis\n",
        "Question 8: What is the concept of expected value in a probability distribution?\n",
        "Answer: The expected value in a probability distribution represents the average outcome of a random variable over many repetitions of an experiment. It's a weighted average, where each possible outcome is multiplied by its probability and then summed. Essentially, it's the long-term average you'd expect if you repeated the same scenario many times\"\"\"\n"
      ],
      "metadata": {
        "colab": {
          "base_uri": "https://localhost:8080/",
          "height": 174
        },
        "id": "h7DXmUAzisAN",
        "outputId": "5a76fc49-44d2-4729-e0d1-604957f75029"
      },
      "execution_count": null,
      "outputs": [
        {
          "output_type": "execute_result",
          "data": {
            "text/plain": [
              "\"Question 1: What is a random variable in probability theory?\\nAnswer: A random variable is a function that assigns a numerical value to each outcome in the sample space of a random experiment, quantifying the results of a chance process. \\nQuestion 2: What are the types of random variables?\\nAnswer:There are two main types of random variables: discrete and continuous. Discrete random variables can take on a countable number of distinct values, while continuous random variables can take on any value within a given range or interval. \\nQuestion 3: Explain the difference between discrete and continuous distributions.\\nAnswer: Discrete and continuous distributions differ in the type of data they represent. Discrete distributions deal with data that can only take on specific, separate values (often integers), while continuous distributions handle data that can fall anywhere along a given range. This difference affects how probabilities are assigned and calculated for each type of distribution.  \\nQuestion 4: What is a binomial distribution, and how is it used in probability?\\nAnswer:A binomial distribution is a probability distribution that models the probability of achieving a specific number of successes in a fixed number of independent trials, where each trial has only two possible outcomes: success or failure\\nQuestion 5: What is the standard normal distribution, and why is it important?\\nAnswerThe standard normal distribution is a specific normal distribution with a mean of 0 and a standard deviation of 1. It's also known as the z-distribution. This distribution is crucial because any normal distribution can be transformed into a standard normal distribution by converting data points into z-scores, which indicate how many standard deviations a value is away from the mean. \\nQuestion 6: What is the Central Limit Theorem (CLT), and why is it critical in statistics?\\nAnswer: The Central Limit Theorem (CLT) states that the distribution of sample means will be approximately normal, regardless of the shape of the population distribution, as long as the sample size is large enough. This is critical in statistics because it allows us to apply many statistical methods that rely on the normal distribution, even when the underlying data isn't normally distributed. \\nQuestion 7: What is the significance of confidence intervals in statistical analysis?\\nAnswer: Confidence intervals in statistics provide a range of plausible values for an unknown population parameter, along with a degree of confidence that the true value falls within that range. They are crucial for understanding the reliability and precision of sample-based estimates, especially when dealing with uncertainty in statistical analysis\\nQuestion 8: What is the concept of expected value in a probability distribution?\\nAnswer: The expected value in a probability distribution represents the average outcome of a random variable over many repetitions of an experiment. It's a weighted average, where each possible outcome is multiplied by its probability and then summed. Essentially, it's the long-term average you'd expect if you repeated the same scenario many times\""
            ],
            "application/vnd.google.colaboratory.intrinsic+json": {
              "type": "string"
            }
          },
          "metadata": {},
          "execution_count": 3
        }
      ]
    },
    {
      "cell_type": "code",
      "source": [
        "\"\"\"Question 9: Write a Python program to generate 1000 random numbers from a normal\n",
        "distribution with mean = 50 and standard deviation = 5. Compute its mean and standard\n",
        "deviation using NumPy, and draw a histogram to visualize the distribution.\n",
        "(Include your Python code and output in the code box below.\"\"\""
      ],
      "metadata": {
        "colab": {
          "base_uri": "https://localhost:8080/",
          "height": 70
        },
        "id": "szHALzBXisEn",
        "outputId": "ec29bf3c-2c26-4114-da13-0c9e917e121f"
      },
      "execution_count": null,
      "outputs": [
        {
          "output_type": "execute_result",
          "data": {
            "text/plain": [
              "'Question 9: Write a Python program to generate 1000 random numbers from a normal\\ndistribution with mean = 50 and standard deviation = 5. Compute its mean and standard\\ndeviation using NumPy, and draw a histogram to visualize the distribution.\\n(Include your Python code and output in the code box below.'"
            ],
            "application/vnd.google.colaboratory.intrinsic+json": {
              "type": "string"
            }
          },
          "metadata": {},
          "execution_count": 5
        }
      ]
    },
    {
      "cell_type": "code",
      "source": [
        "import numpy as np\n",
        "import matplotlib.pyplot as mlt"
      ],
      "metadata": {
        "id": "RN9XCe9_isJt"
      },
      "execution_count": 2,
      "outputs": []
    },
    {
      "cell_type": "code",
      "source": [
        "mean=50\n",
        "standard_deviation = 5"
      ],
      "metadata": {
        "id": "QLM_RMaejxgs"
      },
      "execution_count": 3,
      "outputs": []
    },
    {
      "cell_type": "code",
      "source": [
        "d=np.random.normal(mean,standard_deviation,size=1000)"
      ],
      "metadata": {
        "id": "dpCp0ACoj4_U"
      },
      "execution_count": 4,
      "outputs": []
    },
    {
      "cell_type": "code",
      "source": [
        "mlt.hist(d, bins=30, density=True, alpha=0.7, color='skyblue', edgecolor='black')\n",
        "mlt.title('Histogram of Random Numbers from Normal Distribution')\n",
        "mlt.xlabel('Value')\n",
        "mlt.ylabel('Density')\n",
        "mlt.grid(True)\n",
        "mlt.show()"
      ],
      "metadata": {
        "colab": {
          "base_uri": "https://localhost:8080/",
          "height": 472
        },
        "id": "F096sCCpj48j",
        "outputId": "c846e772-83ff-433f-c9a4-fbb985e2cb91"
      },
      "execution_count": 5,
      "outputs": [
        {
          "output_type": "display_data",
          "data": {
            "text/plain": [
              "<Figure size 640x480 with 1 Axes>"
            ],
            "image/png": "[encoded data removed]"
          },
          "metadata": {}
        }
      ]
    },
    {
      "cell_type": "code",
      "source": [
        "\"\"\"Question 10: You are working as a data analyst for a retail company. The company has collected daily sales data for 2 years and wants you to identify the overall sales trend.\n",
        "235, 260, 245, 250, 225, 270, 265, 255, 250, 260]\n",
        "● Explain how you would apply the Central Limit Theorem to estimate the average sales\n",
        "with a 95% confidence interval.\n",
        "● Write the Python code to compute the mean sales and its confidence interval\"\"\"\n"
      ],
      "metadata": {
        "colab": {
          "base_uri": "https://localhost:8080/",
          "height": 87
        },
        "id": "RkgUw8vcj45z",
        "outputId": "2a5bced8-f906-4fd7-86af-544465acc8cd"
      },
      "execution_count": 6,
      "outputs": [
        {
          "output_type": "execute_result",
          "data": {
            "text/plain": [
              "'Question 10: You are working as a data analyst for a retail company. The company has collected daily sales data for 2 years and wants you to identify the overall sales trend.\\n235, 260, 245, 250, 225, 270, 265, 255, 250, 260]\\n● Explain how you would apply the Central Limit Theorem to estimate the average sales\\nwith a 95% confidence interval.\\n● Write the Python code to compute the mean sales and its confidence interval'"
            ],
            "application/vnd.google.colaboratory.intrinsic+json": {
              "type": "string"
            }
          },
          "metadata": {},
          "execution_count": 6
        }
      ]
    },
    {
      "cell_type": "code",
      "source": [
        "c= [220, 245, 210, 265, 230, 250, 260, 275, 240, 255,\n",
        "235, 260, 245, 250, 225, 270, 265, 255, 250, 260]"
      ],
      "metadata": {
        "id": "gZ-kuUkRj43L"
      },
      "execution_count": 7,
      "outputs": []
    },
    {
      "cell_type": "code",
      "source": [
        "np.mean(c)"
      ],
      "metadata": {
        "id": "TAiaHeLQj40T",
        "colab": {
          "base_uri": "https://localhost:8080/"
        },
        "outputId": "b88b99d3-9828-40bd-9707-7e250a9baec2"
      },
      "execution_count": 8,
      "outputs": [
        {
          "output_type": "execute_result",
          "data": {
            "text/plain": [
              "np.float64(248.25)"
            ]
          },
          "metadata": {},
          "execution_count": 8
        }
      ]
    },
    {
      "cell_type": "code",
      "source": [
        "np.std(c)"
      ],
      "metadata": {
        "colab": {
          "base_uri": "https://localhost:8080/"
        },
        "id": "zceG09pfj4xV",
        "outputId": "fd4e2191-e2c6-42bc-e45e-5c022491be04"
      },
      "execution_count": 9,
      "outputs": [
        {
          "output_type": "execute_result",
          "data": {
            "text/plain": [
              "np.float64(16.82817577754642)"
            ]
          },
          "metadata": {},
          "execution_count": 9
        }
      ]
    },
    {
      "cell_type": "code",
      "source": [
        "#lower confidence interval\n",
        "248.25-1.96*16.82817577754642/20**(1/2)"
      ],
      "metadata": {
        "id": "Lq1Qa32-j4t8",
        "colab": {
          "base_uri": "https://localhost:8080/"
        },
        "outputId": "0b53ad75-d6e1-4267-eec2-2df6040668d5"
      },
      "execution_count": 11,
      "outputs": [
        {
          "output_type": "execute_result",
          "data": {
            "text/plain": [
              "240.87472678472182"
            ]
          },
          "metadata": {},
          "execution_count": 11
        }
      ]
    },
    {
      "cell_type": "code",
      "source": [
        "#upper confidence interval\n",
        "248.25+1.96*16.82817577754642/20**(1/2)"
      ],
      "metadata": {
        "colab": {
          "base_uri": "https://localhost:8080/"
        },
        "id": "e4mrcTpjZ9eY",
        "outputId": "124584d1-97ac-4229-cf34-370eb4a36b24"
      },
      "execution_count": 12,
      "outputs": [
        {
          "output_type": "execute_result",
          "data": {
            "text/plain": [
              "255.62527321527818"
            ]
          },
          "metadata": {},
          "execution_count": 12
        }
      ]
    },
    {
      "cell_type": "code",
      "source": [],
      "metadata": {
        "id": "g0e12nFIabdd"
      },
      "execution_count": null,
      "outputs": []
    }
  ]
}